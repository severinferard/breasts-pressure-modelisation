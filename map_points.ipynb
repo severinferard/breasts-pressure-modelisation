{
 "cells": [
  {
   "cell_type": "code",
   "execution_count": 1,
   "metadata": {},
   "outputs": [],
   "source": [
    "%matplotlib inline"
   ]
  },
  {
   "cell_type": "code",
   "execution_count": 2,
   "metadata": {},
   "outputs": [],
   "source": [
    "from __future__ import annotations\n",
    "\n",
    "from matplotlib.colors import ListedColormap\n",
    "import matplotlib.pyplot as plt\n",
    "import numpy as np\n",
    "\n",
    "import pyvista as pv\n",
    "from pyvista import examples\n",
    "import pyvistaqt as pvqt\n",
    "import cv2\n",
    "\n",
    "np.set_printoptions(linewidth=500)"
   ]
  },
  {
   "cell_type": "code",
   "execution_count": 3,
   "metadata": {},
   "outputs": [],
   "source": [
    "N_COLUMNS=12\n",
    "N_ROWS=21\n",
    "\n"
   ]
  },
  {
   "cell_type": "code",
   "execution_count": 5,
   "metadata": {},
   "outputs": [
    {
     "data": {
      "application/vnd.jupyter.widget-view+json": {
       "model_id": "44ea41fc37084bfca6eedefb47011282",
       "version_major": 2,
       "version_minor": 0
      },
      "text/plain": [
       "Widget(value='<iframe src=\"http://localhost:63185/index.html?ui=P_0x1037833b0_1&reconnect=auto\" class=\"pyvista…"
      ]
     },
     "metadata": {},
     "output_type": "display_data"
    }
   ],
   "source": [
    "mesh = pv.read('./assets/boob_with_mesh_raw.obj')\n",
    "tex = pv.read_texture('./assets/boob_with_mesh_raw.jpg')\n",
    "\n",
    "pl = pv.Plotter()\n",
    "\n",
    "pl.add_mesh(mesh, texture=tex)\n",
    "pl.show()"
   ]
  },
  {
   "cell_type": "code",
   "execution_count": 7,
   "metadata": {},
   "outputs": [
    {
     "name": "stderr",
     "output_type": "stream",
     "text": [
      "Traceback (most recent call last):\n",
      "  File \"/Users/severinferard/Code/boob_pressure_map/.venv/lib/python3.12/site-packages/pyvista/plotting/plotter.py\", line 2207, in key_press_event\n",
      "    self.iren.key_press_event(*args, **kwargs)\n",
      "  File \"/Users/severinferard/Code/boob_pressure_map/.venv/lib/python3.12/site-packages/pyvista/plotting/render_window_interactor.py\", line 432, in key_press_event\n",
      "    func()\n",
      "  File \"/var/folders/qs/dft2klcn1nlfqrznvn0142yh0000gn/T/ipykernel_76170/354304112.py\", line 47, in on_skip\n",
      "    text.SetText(1, f\"{coordinates[index]}\")\n",
      "                       ~~~~~~~~~~~^^^^^^^\n",
      "IndexError: list index out of range\n"
     ]
    }
   ],
   "source": [
    "# apple = pv.read('./apple.obj')\n",
    "\n",
    "# tex = pv.read_texture('./texture-2.jpg')\n",
    "\n",
    "pl = pvqt.BackgroundPlotter()\n",
    "\n",
    "coordinates = [(h, v) for h in range(N_ROWS) for v in range(N_COLUMNS)]\n",
    "index = 0\n",
    "\n",
    "text = pl.add_text(f\"{coordinates[index]}\", position=1, name='current point')\n",
    "\n",
    "points = np.zeros((N_ROWS * N_COLUMNS, 3))\n",
    "\n",
    "def callback(point):\n",
    "    global index\n",
    "    \"\"\"Create a cube and a label at the click point.\"\"\"\n",
    "    h, v = coordinates[index]\n",
    "    \n",
    "    mesh = pv.Sphere(center=point, radius=0.0005)\n",
    "    pl.add_mesh(mesh, style='points', color='r', name=f\"point-{index}\")\n",
    "\n",
    "    points[index] = point\n",
    "    index += 1\n",
    "    \n",
    "    text.SetText(1, f\"{coordinates[index]}\")\n",
    "\n",
    "\n",
    "def on_undo():\n",
    "    global index\n",
    "\n",
    "    if index == 0:\n",
    "        return\n",
    "    index -= 1\n",
    "\n",
    "    points[index] = [0, 0, 0]\n",
    "    text.SetText(1, f\"{coordinates[index]}\")\n",
    "    pl.remove_actor(f\"point-{index}\")\n",
    "\n",
    "def on_skip():\n",
    "    global index\n",
    "\n",
    "    if index == len(points - 1):\n",
    "        return\n",
    "    index += 1\n",
    "\n",
    "    # points[index] = [0, 0, 0]\n",
    "    text.SetText(1, f\"{coordinates[index]}\")\n",
    "\n",
    "\n",
    "pl.add_mesh(mesh, texture=tex)\n",
    "pl.enable_surface_point_picking(callback=callback)\n",
    "pl.add_key_event('u', on_undo)\n",
    "pl.add_key_event('n', on_skip)\n",
    "\n",
    "pl.show()"
   ]
  },
  {
   "cell_type": "code",
   "execution_count": 9,
   "metadata": {},
   "outputs": [
    {
     "ename": "",
     "evalue": "",
     "output_type": "error",
     "traceback": [
      "\u001b[1;31mThe Kernel crashed while executing code in the current cell or a previous cell. \n",
      "\u001b[1;31mPlease review the code in the cell(s) to identify a possible cause of the failure. \n",
      "\u001b[1;31mClick <a href='https://aka.ms/vscodeJupyterKernelCrash'>here</a> for more info. \n",
      "\u001b[1;31mView Jupyter <a href='command:jupyter.viewOutput'>log</a> for further details."
     ]
    }
   ],
   "source": [
    "# FILENAME = f\"boob_grid_{N_COLUMNS}_{N_ROWS}.npy\"\n",
    "# np.save(FILENAME, points)\n"
   ]
  },
  {
   "cell_type": "code",
   "execution_count": null,
   "metadata": {},
   "outputs": [],
   "source": []
  }
 ],
 "metadata": {
  "kernelspec": {
   "display_name": ".venv",
   "language": "python",
   "name": "python3"
  },
  "language_info": {
   "codemirror_mode": {
    "name": "ipython",
    "version": 3
   },
   "file_extension": ".py",
   "mimetype": "text/x-python",
   "name": "python",
   "nbconvert_exporter": "python",
   "pygments_lexer": "ipython3",
   "version": "3.12.4"
  }
 },
 "nbformat": 4,
 "nbformat_minor": 2
}

{
 "cells": [
  {
   "cell_type": "code",
   "execution_count": 1,
   "metadata": {},
   "outputs": [],
   "source": [
    "%matplotlib inline"
   ]
  },
  {
   "cell_type": "code",
   "execution_count": 4,
   "metadata": {},
   "outputs": [],
   "source": [
    "from __future__ import annotations\n",
    "\n",
    "from matplotlib.colors import ListedColormap\n",
    "import matplotlib.pyplot as plt\n",
    "import numpy as np\n",
    "\n",
    "import pyvista as pv\n",
    "from pyvista import examples\n",
    "import pyvistaqt as pvqt\n",
    "import cv2\n",
    "\n",
    "np.set_printoptions(linewidth=500)"
   ]
  },
  {
   "cell_type": "code",
   "execution_count": 5,
   "metadata": {},
   "outputs": [],
   "source": [
    "N_COLUMNS=12\n",
    "N_ROWS=12\n",
    "\n",
    "FILENAME = f\"apple_points_{N_COLUMNS}_{N_ROWS}.npy\""
   ]
  },
  {
   "cell_type": "code",
   "execution_count": 6,
   "metadata": {},
   "outputs": [],
   "source": [
    "apple = pv.read('./apple.obj')\n",
    "tex = pv.read_texture('./texture-2.jpg')\n",
    "\n",
    "pl = pvqt.BackgroundPlotter()\n",
    "\n",
    "coordinates = [(h, v) for h in range(N_ROWS) for v in range(N_COLUMNS)]\n",
    "index = 0\n",
    "\n",
    "text = pl.add_text(f\"{coordinates[index]}\", position=1, name='current point')\n",
    "\n",
    "points = np.zeros((N_ROWS * N_COLUMNS, 3))\n",
    "\n",
    "def callback(point):\n",
    "    global index\n",
    "    \"\"\"Create a cube and a label at the click point.\"\"\"\n",
    "    h, v = coordinates[index]\n",
    "    \n",
    "    mesh = pv.Sphere(center=point, radius=0.0005)\n",
    "    pl.add_mesh(mesh, style='points', color='r', name=f\"point-{index}\")\n",
    "\n",
    "    points[index] = point\n",
    "    index += 1\n",
    "    \n",
    "    text.SetText(1, f\"{coordinates[index]}\")\n",
    "\n",
    "\n",
    "def on_undo():\n",
    "    global index\n",
    "\n",
    "    if index == 0:\n",
    "        return\n",
    "    index -= 1\n",
    "\n",
    "    h, v = coordinates[index]\n",
    "    points[index] = [0, 0, 0]\n",
    "    text.SetText(1, f\"{coordinates[index]}\")\n",
    "    pl.remove_actor(f\"point-{index}\")\n",
    "\n",
    "\n",
    "pl.add_mesh(apple, texture=tex)\n",
    "pl.enable_surface_point_picking(callback=callback)\n",
    "pl.add_key_event('u', on_undo)\n",
    "pl.show()"
   ]
  },
  {
   "cell_type": "code",
   "execution_count": null,
   "metadata": {},
   "outputs": [],
   "source": [
    "# np.save(FILENAME, points)"
   ]
  }
 ],
 "metadata": {
  "kernelspec": {
   "display_name": ".venv",
   "language": "python",
   "name": "python3"
  },
  "language_info": {
   "codemirror_mode": {
    "name": "ipython",
    "version": 3
   },
   "file_extension": ".py",
   "mimetype": "text/x-python",
   "name": "python",
   "nbconvert_exporter": "python",
   "pygments_lexer": "ipython3",
   "version": "3.12.4"
  }
 },
 "nbformat": 4,
 "nbformat_minor": 2
}

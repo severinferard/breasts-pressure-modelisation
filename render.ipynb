{
 "cells": [
  {
   "cell_type": "code",
   "execution_count": 1,
   "metadata": {},
   "outputs": [],
   "source": [
    "%matplotlib inline"
   ]
  },
  {
   "cell_type": "code",
   "execution_count": 2,
   "metadata": {},
   "outputs": [],
   "source": [
    "from __future__ import annotations\n",
    "\n",
    "from matplotlib.colors import ListedColormap\n",
    "import matplotlib.pyplot as plt\n",
    "import numpy as np\n",
    "\n",
    "import pyvista as pv\n",
    "from pyvista import examples\n",
    "import pyvistaqt as pvqt\n",
    "import cv2\n",
    "\n",
    "np.set_printoptions(linewidth=500)"
   ]
  },
  {
   "cell_type": "code",
   "execution_count": 9,
   "metadata": {},
   "outputs": [
    {
     "data": {
      "text/plain": [
       "array([[  0.,   0.,   0.,   0.,   0.,   0.,   0.,   0.,   0.,   0.,   0.,   0.],\n",
       "       [  0.,   0.,   0.,   0.,   0.,   0.,   0.,   0.,   0.,   0.,   0.,   0.],\n",
       "       [  0.,   0.,   0.,   0.,   0.,   0.,   0.,   0.,   0.,   0.,   0.,   0.],\n",
       "       [  0.,   0.,   0.,   0.,   0.,   0.,   0.,   0.,   0.,   0.,   0.,   0.],\n",
       "       [  0.,   0.,   0.,   0.,   0.,   0.,   0.,   0.,   0.,   0.,   0.,   0.],\n",
       "       [  0.,   0.,   0.,   0.,   0., 100., 100., 100.,   0.,   0.,   0.,   0.],\n",
       "       [  0.,   0.,   0.,   0.,   0.,   0.,   0.,   0.,   0.,   0.,   0.,   0.],\n",
       "       [  0.,   0.,   0.,   0.,   0.,   0.,   0.,   0.,   0.,   0.,   0.,   0.],\n",
       "       [  0.,   0.,   0.,   0.,   0.,   0.,   0.,   0.,   0.,   0., 100.,   0.],\n",
       "       [  0.,   0.,   0.,   0.,   0.,   0.,   0.,   0.,   0.,   0.,   0.,   0.],\n",
       "       [  0.,   0.,   0.,   0.,   0., 100.,   0.,   0.,   0.,   0.,   0.,   0.],\n",
       "       [  0.,   0.,   0.,   0.,   0.,   0.,   0.,   0.,   0.,   0.,   0.,   0.]])"
      ]
     },
     "execution_count": 9,
     "metadata": {},
     "output_type": "execute_result"
    }
   ],
   "source": [
    "N_COLUMNS=12\n",
    "N_ROWS=12\n",
    "\n",
    "data = np.zeros((N_ROWS, N_COLUMNS))\n",
    "\n",
    "data[5][5] = 100\n",
    "\n",
    "data[5][6] = 100\n",
    "data[5][7] = 100\n",
    "\n",
    "data[10][5] = 100\n",
    "\n",
    "data[8][10] = 100\n",
    "\n",
    "\n",
    "\n",
    "data"
   ]
  },
  {
   "cell_type": "code",
   "execution_count": 21,
   "metadata": {},
   "outputs": [
    {
     "data": {
      "application/vnd.jupyter.widget-view+json": {
       "model_id": "eda372644a30404e8f0547d2e717ac2c",
       "version_major": 2,
       "version_minor": 0
      },
      "text/plain": [
       "Widget(value='<iframe src=\"http://localhost:59871/index.html?ui=P_0x29e93c380_14&reconnect=auto\" class=\"pyvist…"
      ]
     },
     "metadata": {},
     "output_type": "display_data"
    }
   ],
   "source": [
    "apple = pv.read('./apple.obj')\n",
    "tex = pv.read_texture('./texture-2.jpg')\n",
    "\n",
    "pl = pv.Plotter()\n",
    "pl.add_mesh(apple, texture=tex)\n",
    "\n",
    "points = np.load(\"apple_points_12_12.npy\")\n",
    "\n",
    "for point in points:\n",
    "    sphere = pv.Sphere(center=point, radius=0.0005)\n",
    "    pl.add_mesh(sphere, style='points', color='blue')\n",
    "pl.show()\n",
    "\n",
    "\n"
   ]
  },
  {
   "cell_type": "code",
   "execution_count": 23,
   "metadata": {},
   "outputs": [],
   "source": [
    "from scipy.spatial import KDTree\n",
    "\n",
    "\n",
    "k = 5\n",
    "\n",
    "kdtree = KDTree(points)\n",
    "\n",
    "apple['nearest_point'] = kdtree.query(apple.points)[1]\n",
    "apple['nearest_points'] = kdtree.query(apple.points, k=k)[1]\n",
    "apple['nearest_points_dist'] = kdtree.query(apple.points, k=k)[0]\n",
    "\n",
    "data_flatten = data.flatten()\n",
    "\n",
    "# Step 1: Calculate the reciprocal of the distances\n",
    "reciprocal_distances = 1 / apple['nearest_points_dist']\n",
    "\n",
    "# Step 2: Square the reciprocal distances\n",
    "squared_reciprocal_distances = reciprocal_distances ** 1.2\n",
    "\n",
    "# Step 3: Normalize the weights\n",
    "normalized_weights = squared_reciprocal_distances / np.sum(squared_reciprocal_distances, axis=1, keepdims=True)\n"
   ]
  },
  {
   "cell_type": "code",
   "execution_count": 25,
   "metadata": {},
   "outputs": [
    {
     "data": {
      "application/vnd.jupyter.widget-view+json": {
       "model_id": "745466cf5e8649778191bf0e0af291b8",
       "version_major": 2,
       "version_minor": 0
      },
      "text/plain": [
       "Widget(value='<iframe src=\"http://localhost:59871/index.html?ui=P_0x3113f3230_16&reconnect=auto\" class=\"pyvist…"
      ]
     },
     "metadata": {},
     "output_type": "display_data"
    }
   ],
   "source": [
    "\n",
    "\n",
    "# Step 4: Apply the weights to compute the weighted sum\n",
    "apple['pressure'] = np.sum(data_flatten[apple['nearest_points']] * normalized_weights, axis=1)\n",
    "\n",
    "# apple['pressure'] = np.where(apple['pressure'] > 50, 50, apple['pressure'])\n",
    "\n",
    "pl = pv.Plotter()\n",
    "pl.add_mesh(apple, scalars='pressure', cmap='RdPu')\n",
    "for point in points:\n",
    "    sphere = pv.Sphere(center=point, radius=0.0005)\n",
    "    pl.add_mesh(sphere, style='points', color='blue')\n",
    "\n",
    "pl.show()"
   ]
  },
  {
   "cell_type": "code",
   "execution_count": null,
   "metadata": {},
   "outputs": [],
   "source": []
  }
 ],
 "metadata": {
  "kernelspec": {
   "display_name": ".venv",
   "language": "python",
   "name": "python3"
  },
  "language_info": {
   "codemirror_mode": {
    "name": "ipython",
    "version": 3
   },
   "file_extension": ".py",
   "mimetype": "text/x-python",
   "name": "python",
   "nbconvert_exporter": "python",
   "pygments_lexer": "ipython3",
   "version": "3.12.4"
  }
 },
 "nbformat": 4,
 "nbformat_minor": 2
}

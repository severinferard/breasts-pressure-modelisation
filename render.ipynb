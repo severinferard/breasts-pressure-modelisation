{
 "cells": [
  {
   "cell_type": "code",
   "execution_count": 1,
   "metadata": {},
   "outputs": [],
   "source": [
    "%matplotlib inline"
   ]
  },
  {
   "cell_type": "code",
   "execution_count": 2,
   "metadata": {},
   "outputs": [],
   "source": [
    "from __future__ import annotations\n",
    "\n",
    "from matplotlib.colors import ListedColormap\n",
    "import matplotlib.pyplot as plt\n",
    "import numpy as np\n",
    "\n",
    "import pyvista as pv\n",
    "from pyvista import examples\n",
    "import pyvistaqt as pvqt\n",
    "\n",
    "np.set_printoptions(linewidth=500)"
   ]
  },
  {
   "cell_type": "code",
   "execution_count": 3,
   "metadata": {},
   "outputs": [
    {
     "data": {
      "text/plain": [
       "array([[  0.,   0.,   0.,   0.,   0.,   0.,   0.,   0.,   0.,   0.,   0.,   0.],\n",
       "       [  0.,   0.,   0.,   0.,   0.,   0.,   0.,   0.,   0.,   0.,   0.,   0.],\n",
       "       [  0.,   0.,   0.,   0.,   0.,   0.,   0.,   0.,   0.,   0.,   0.,   0.],\n",
       "       [  0.,   0.,   0.,   0.,   0.,   0.,   0.,   0.,   0.,   0.,   0.,   0.],\n",
       "       [  0.,   0.,   0.,   0.,   0.,   0.,   0.,   0.,   0.,   0.,   0.,   0.],\n",
       "       [  0.,   0.,   0.,   0.,   0., 100., 100., 100.,   0.,   0.,   0.,   0.],\n",
       "       [  0.,   0.,   0.,   0.,   0.,   0.,   0.,   0.,   0.,   0.,   0.,   0.],\n",
       "       [  0.,   0.,   0.,   0.,   0.,   0.,   0.,   0.,   0.,   0.,   0.,   0.],\n",
       "       [  0.,   0.,   0.,   0.,   0.,   0.,   0.,   0.,   0.,   0., 100.,   0.],\n",
       "       [  0.,   0.,   0.,   0.,   0.,   0.,   0.,   0.,   0.,   0.,   0.,   0.],\n",
       "       [  0.,   0.,   0.,   0.,   0., 100.,   0.,   0.,   0.,   0.,   0.,   0.],\n",
       "       [  0.,   0.,   0.,   0.,   0.,   0.,   0.,   0.,   0.,   0.,   0.,   0.],\n",
       "       [  0.,   0.,   0.,   0.,   0.,   0.,   0.,   0.,   0.,   0.,   0.,   0.],\n",
       "       [  0.,   0.,   0.,   0.,   0.,   0.,   0.,   0.,   0.,   0.,   0.,   0.],\n",
       "       [  0.,   0.,   0.,   0.,   0.,   0.,   0.,   0.,   0.,   0.,   0.,   0.],\n",
       "       [  0.,   0.,   0.,   0.,   0.,   0.,   0.,   0.,   0.,   0.,   0.,   0.],\n",
       "       [  0.,   0.,   0.,   0.,   0.,   0.,   0.,   0.,   0.,   0.,   0.,   0.],\n",
       "       [  0.,   0.,   0.,   0.,   0.,   0.,   0.,   0.,   0.,   0.,   0.,   0.],\n",
       "       [  0.,   0.,   0.,   0.,   0.,   0.,   0.,   0.,   0.,   0.,   0.,   0.],\n",
       "       [  0.,   0.,   0.,   0.,   0.,   0.,   0.,   0.,   0.,   0.,   0.,   0.],\n",
       "       [  0.,   0.,   0.,   0.,   0.,   0.,   0.,   0.,   0.,   0.,   0.,   0.]])"
      ]
     },
     "execution_count": 3,
     "metadata": {},
     "output_type": "execute_result"
    }
   ],
   "source": [
    "N_COLUMNS=12\n",
    "N_ROWS=21\n",
    "\n",
    "data = np.zeros((N_ROWS, N_COLUMNS))\n",
    "\n",
    "data[5][5] = 100\n",
    "\n",
    "data[5][6] = 100\n",
    "data[5][7] = 100\n",
    "\n",
    "data[10][5] = 100\n",
    "\n",
    "data[8][10] = 100\n",
    "\n",
    "\n",
    "\n",
    "data"
   ]
  },
  {
   "cell_type": "code",
   "execution_count": 50,
   "metadata": {},
   "outputs": [
    {
     "data": {
      "application/vnd.jupyter.widget-view+json": {
       "model_id": "0c23cc63975c468799cd7d2d83ea11f7",
       "version_major": 2,
       "version_minor": 0
      },
      "text/plain": [
       "Widget(value='<iframe src=\"http://localhost:59620/index.html?ui=P_0x30e1e4e60_44&reconnect=auto\" class=\"pyvist…"
      ]
     },
     "metadata": {},
     "output_type": "display_data"
    }
   ],
   "source": [
    "pl = pv.Plotter()\n",
    "\n",
    "points = np.load(\"./assets/boob_grid_12_21.npy\")\n",
    "\n",
    "mesh = pv.read('./assets/boob.obj')\n",
    "mesh.translate(np.array([0, -0.035, 0]), inplace=True)\n",
    "\n",
    "# Remove points skipped (at 0, 0, 0))\n",
    "points_not_zero = points[np.sum(points, axis=1) != 0]\n",
    "\n",
    "point_cloud = pv.PolyData(points)\n",
    "pl.add_mesh(points_not_zero, color='red')\n",
    "pl.add_mesh(mesh, opacity=0.5)\n",
    "\n",
    "pl.show()\n",
    "\n",
    "\n"
   ]
  },
  {
   "cell_type": "code",
   "execution_count": 51,
   "metadata": {},
   "outputs": [],
   "source": [
    "# mesh = pv.read('./boob_mold.obj')\n",
    "# tex = pv.read_texture('./texture-2.jpg')\n",
    "\n",
    "# axes = pv.Axes(show_actor=True, actor_scale=2.0, line_width=5)\n",
    "# axes.origin = (3.0, 3.0, 3.0)\n",
    "\n",
    "\n",
    "# point_cloud_scaled = point_cloud.scale(1000)\n",
    "\n",
    "# point_cloud_scaled.rotate_y(150, point=axes.origin, inplace=True)\n",
    "# point_cloud_scaled.rotate_x(-5, point=axes.origin, inplace=True)\n",
    "\n",
    "# point_cloud_scaled.translate(np.array([-20, 105, -10]), inplace=True)\n",
    "# pl = pv.Plotter()\n",
    "\n",
    "# pl.add_actor(axes.actor)\n",
    "\n",
    "# axes = pv.Axes(show_actor=True, actor_scale=2.0, line_width=5)\n",
    "# axes.origin = (3.0, 3.0, 3.0)\n",
    "# pl.add_mesh(mesh, opacity=0.5)\n",
    "# pl.add_mesh(point_cloud_scaled, color='red')\n",
    "# pl.show()\n"
   ]
  },
  {
   "cell_type": "code",
   "execution_count": 52,
   "metadata": {},
   "outputs": [],
   "source": [
    "from scipy.spatial import KDTree\n",
    "\n",
    "\n",
    "k = 5\n",
    "\n",
    "kdtree = KDTree(points)\n",
    "\n",
    "mesh['nearest_point'] = kdtree.query(mesh.points)[1]\n",
    "mesh['nearest_points'] = kdtree.query(mesh.points, k=k)[1]\n",
    "mesh['nearest_points_dist'] = kdtree.query(mesh.points, k=k)[0]\n",
    "\n",
    "data_flatten = data.flatten()\n",
    "\n",
    "# Step 1: Calculate the reciprocal of the distances\n",
    "reciprocal_distances = 1 / mesh['nearest_points_dist']\n",
    "\n",
    "# Step 2: Square the reciprocal distances\n",
    "squared_reciprocal_distances = reciprocal_distances ** 1.2\n",
    "\n",
    "# Step 3: Normalize the weights\n",
    "normalized_weights = squared_reciprocal_distances / np.sum(squared_reciprocal_distances, axis=1, keepdims=True)\n"
   ]
  },
  {
   "cell_type": "code",
   "execution_count": 76,
   "metadata": {},
   "outputs": [
    {
     "ename": "",
     "evalue": "",
     "output_type": "error",
     "traceback": [
      "\u001b[1;31mThe Kernel crashed while executing code in the current cell or a previous cell. \n",
      "\u001b[1;31mPlease review the code in the cell(s) to identify a possible cause of the failure. \n",
      "\u001b[1;31mClick <a href='https://aka.ms/vscodeJupyterKernelCrash'>here</a> for more info. \n",
      "\u001b[1;31mView Jupyter <a href='command:jupyter.viewOutput'>log</a> for further details."
     ]
    }
   ],
   "source": [
    "\n",
    "\n",
    "# Step 4: Apply the weights to compute the weighted sum\n",
    "point_cloud['pressure'] = data_flatten\n",
    "mesh['pressure'] = np.sum(data_flatten[mesh['nearest_points']] * normalized_weights, axis=1)\n",
    "\n",
    "# apple['pressure'] = np.where(apple['pressure'] > 50, 50, apple['pressure'])\n",
    "\n",
    "pl = pvqt.BackgroundPlotter(shape=(1, 2), border=False)\n",
    "pl.subplot(0, 0)\n",
    "pl.add_text(\"Measured Pressure Values on Grid\", font_size=12)\n",
    "pl.add_mesh(point_cloud, scalars='pressure', cmap='cool', point_size=15)\n",
    "\n",
    "pl.subplot(0, 1)\n",
    "pl.add_text(f\"Inverse Distance Weighted Interpolation (k={k})\", font_size=12)\n",
    "pl.add_mesh(mesh, scalars='pressure', cmap='cool')\n",
    "\n",
    "pl.link_views()\n",
    "\n",
    "\n",
    "pl.show()"
   ]
  },
  {
   "cell_type": "code",
   "execution_count": null,
   "metadata": {},
   "outputs": [],
   "source": [
    "\n",
    "pl = pvqt.BackgroundPlotter()\n",
    "pl.add_mesh(mesh, scalars='pressure', cmap='RdPu')\n",
    "\n",
    "for point in points:\n",
    "    sphere = pv.Sphere(center=point, radius=0.0005)\n",
    "    pl.add_mesh(sphere, style='points', color='blue')\n",
    "\n",
    "\n",
    "while True:\n",
    "\n",
    "    data_flatten = np.roll(data_flatten, 1)\n",
    "    # Step 4: Apply the weights to compute the weighted sum\n",
    "    mesh['pressure'] = np.sum(data_flatten[mesh['nearest_points']] * normalized_weights, axis=1)\n",
    "\n",
    "    # apple['pressure'] = np.where(apple['pressure'] > 50, 50, apple['pressure'])\n",
    "    pl.render()\n",
    "    pl.app.processEvents()\n"
   ]
  }
 ],
 "metadata": {
  "kernelspec": {
   "display_name": ".venv",
   "language": "python",
   "name": "python3"
  },
  "language_info": {
   "codemirror_mode": {
    "name": "ipython",
    "version": 3
   },
   "file_extension": ".py",
   "mimetype": "text/x-python",
   "name": "python",
   "nbconvert_exporter": "python",
   "pygments_lexer": "ipython3",
   "version": "3.12.4"
  }
 },
 "nbformat": 4,
 "nbformat_minor": 2
}

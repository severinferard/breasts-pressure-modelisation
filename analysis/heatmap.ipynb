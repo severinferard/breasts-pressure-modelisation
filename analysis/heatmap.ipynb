{
 "cells": [
  {
   "cell_type": "code",
   "execution_count": 1,
   "metadata": {},
   "outputs": [],
   "source": [
    "%matplotlib inline\n",
    "\n",
    "import numpy as np\n",
    "import pyvista as pv\n",
    "from scipy.spatial import KDTree\n",
    "from binary_to_csv import binary_to_csv\n",
    "import os\n",
    "import pandas as pd"
   ]
  },
  {
   "cell_type": "code",
   "execution_count": 24,
   "metadata": {},
   "outputs": [
    {
     "name": "stdout",
     "output_type": "stream",
     "text": [
      "1-data_20241115_120259_pre.csv: 162 rows\n",
      "1-data_20241115_120617_post.csv: 356 rows\n",
      "2-data_20241115_120829_pre.csv: 421 rows\n",
      "2-data_20241115_121237_post.csv: 551 rows\n",
      "3-data_20241115_134123_pre.csv: 97 rows\n",
      "3-data_20241115_134545_post.csv: 1037 rows\n",
      "4-data_20241115_151409_pre.csv: 1426 rows\n",
      "4-data_20241115_151829_post.csv: 291 rows\n",
      "5-data_20241115_152227_pre.csv: 64 rows\n",
      "5-data_20241115_152414_post.csv: 615 rows\n",
      "6-data_20241115_161731_pre.csv: 259 rows\n",
      "6-data_20241115_162026_post.csv: 875 rows\n",
      "7-data_20241115_171711_pre.csv: 259 rows\n",
      "7-data_20241115_172102_post.csv: 551 rows\n",
      "8-data_20241115_175503_pre.csv: 745 rows\n",
      "8-data_20241115_175911_post.csv: 842 rows\n"
     ]
    }
   ],
   "source": [
    "DATA_DIR = '../data/results'\n",
    "\n",
    "csvs = [f for f in os.listdir(DATA_DIR) if f.endswith('.csv')]\n",
    "csvs.sort()\n",
    "\n",
    "dataframes = {}\n",
    "for filename in csvs:\n",
    "    dataframes[filename] = pd.read_csv(os.path.join(DATA_DIR, filename), header=None)\n",
    "\n",
    "\n",
    "for [key, value] in dataframes.items():\n",
    "   print(f\"{key}: {len(value)} rows\")\n"
   ]
  },
  {
   "cell_type": "code",
   "execution_count": 28,
   "metadata": {},
   "outputs": [],
   "source": [
    "ASSETS_DIR = '../assets'\n",
    "\n",
    "grid_points = np.load(os.path.join(ASSETS_DIR, \"boob_grid_12_21.npy\"))\n",
    "\n",
    "# Remove points that are outside of the boob mesh.\n",
    "# Because those points have been skipped during the points mapping, their value is (0, 0, 0)\n",
    "origin = np.array([0, 0, 0])\n",
    "points_to_skip = np.where((grid_points == origin).all(axis=1))[0]\n",
    "points_of_interest = np.delete(grid_points, points_to_skip, axis=0)\n",
    "\n",
    "# Drop the columns that represent points out of the breast model.\n",
    "# dataframes_poi = [df.drop(columns=points_to_skip) for df in dataframes]\n",
    "dataframes_poi = {key: df.drop(columns=points_to_skip) for key, df in dataframes.items()}"
   ]
  },
  {
   "cell_type": "code",
   "execution_count": 29,
   "metadata": {},
   "outputs": [],
   "source": [
    "# Create the point cloud and initialize the scalars\n",
    "boob_meshpoint_cloud = pv.PolyData(points_of_interest)\n",
    "\n",
    "\n",
    "K = 5\n",
    "\n",
    "# Load the boob 3D model from file\n",
    "boob_mesh = pv.read( '../assets/boob.obj')\n",
    "boob_mesh.translate(np.array([0, -0.035, 0]), inplace=True)\n",
    "\n",
    "# Create a kd-tree for quick nearest-neighbor lookup.\n",
    "kdtree = KDTree(points_of_interest)\n",
    "\n",
    "# Find the K nearest point_cloud points for each points in the boob mesh and calculate their respective distances\n",
    "boob_mesh['nearest_points'] = kdtree.query(boob_mesh.points, k=K)[1]\n",
    "boob_mesh['nearest_points_dist'] = kdtree.query(boob_mesh.points, k=K)[0]\n",
    "\n",
    "# Step 1: Calculate the reciprocal of the distances\n",
    "reciprocal_distances = 1 / boob_mesh['nearest_points_dist']\n",
    "\n",
    "# Step 2: Square the reciprocal distances\n",
    "squared_reciprocal_distances = reciprocal_distances ** 1.2\n",
    "\n",
    "\n",
    "# Step 3: Normalize the weights\n",
    "normalized_weights = squared_reciprocal_distances / \\\n",
    "    np.sum(squared_reciprocal_distances, axis=1, keepdims=True)\n",
    "\n",
    "boob_mesh['pressure'] = np.zeros(boob_mesh.points.shape[0])\n",
    "boob_mesh['max_pressure'] = boob_mesh['pressure']\n"
   ]
  },
  {
   "cell_type": "code",
   "execution_count": 32,
   "metadata": {},
   "outputs": [],
   "source": [
    "calibration_data =  {key: df.iloc[:20].median() for key, df in dataframes_poi.items()} "
   ]
  },
  {
   "cell_type": "code",
   "execution_count": 33,
   "metadata": {},
   "outputs": [],
   "source": [
    "def interpolate_grid_on_model(grid_scalar):\n",
    "    return np.sum(grid_scalar[boob_mesh['nearest_points']] * normalized_weights, axis=1)"
   ]
  },
  {
   "cell_type": "code",
   "execution_count": 61,
   "metadata": {},
   "outputs": [
    {
     "data": {
      "application/vnd.jupyter.widget-view+json": {
       "model_id": "9be617d6e16d4f23b2c266a460eb1293",
       "version_major": 2,
       "version_minor": 0
      },
      "text/plain": [
       "Widget(value='<iframe src=\"http://localhost:60295/index.html?ui=P_0x3105f34d0_12&reconnect=auto\" class=\"pyvist…"
      ]
     },
     "metadata": {},
     "output_type": "display_data"
    },
    {
     "name": "stdout",
     "output_type": "stream",
     "text": [
      "8\n",
      "8\n"
     ]
    }
   ],
   "source": [
    "relative_pressure =  {key: dataframes_poi[key] - calibration_data[key] for key in csvs}\n",
    "\n",
    "total_pressure = {key: df.mean() for key, df in relative_pressure.items()}\n",
    "\n",
    "pre_total_pressure = [df for key, df in total_pressure.items() if key.endswith('_pre.csv')]\n",
    "post_total_pressure = [df for key, df in total_pressure.items() if key.endswith('_post.csv')]\n",
    "\n",
    "\n",
    "# sum(pre_total_pressure)\n",
    "\n",
    "p3 = pv.Plotter(border=False, shape=(1, 2))\n",
    "\n",
    "p3.subplot(0, 0)\n",
    "p3.add_title(\"Pre\", font_size=8)\n",
    "p3.add_mesh(boob_mesh, copy_mesh=True, scalars=interpolate_grid_on_model(np.array(sum(pre_total_pressure))), cmap='cool', point_size=10)\n",
    "\n",
    "\n",
    "p3.subplot(0, 1)\n",
    "p3.add_title(\"Post\", font_size=8)\n",
    "p3.add_mesh(boob_mesh, copy_mesh=True, scalars=interpolate_grid_on_model(np.array(sum(post_total_pressure))),  cmap='cool', point_size=10)\n",
    "\n",
    "p3.link_views()\n",
    "\n",
    "p3.show()\n",
    "\n",
    "print(len(pre_total_pressure))\n",
    "print(len(post_total_pressure))\n",
    "\n",
    "\n"
   ]
  },
  {
   "cell_type": "code",
   "execution_count": null,
   "metadata": {},
   "outputs": [],
   "source": []
  }
 ],
 "metadata": {
  "kernelspec": {
   "display_name": ".venv",
   "language": "python",
   "name": "python3"
  },
  "language_info": {
   "codemirror_mode": {
    "name": "ipython",
    "version": 3
   },
   "file_extension": ".py",
   "mimetype": "text/x-python",
   "name": "python",
   "nbconvert_exporter": "python",
   "pygments_lexer": "ipython3",
   "version": "3.12.5"
  }
 },
 "nbformat": 4,
 "nbformat_minor": 2
}

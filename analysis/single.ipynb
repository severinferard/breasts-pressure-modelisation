{
 "cells": [
  {
   "cell_type": "code",
   "execution_count": 126,
   "metadata": {},
   "outputs": [],
   "source": [
    "%matplotlib inline\n",
    "\n",
    "import numpy as np\n",
    "import pyvista as pv\n",
    "from scipy.spatial import KDTree\n",
    "from binary_to_csv import binary_to_csv\n",
    "import os\n",
    "import pandas as pd"
   ]
  },
  {
   "cell_type": "code",
   "execution_count": 127,
   "metadata": {},
   "outputs": [],
   "source": [
    "ASSETS_DIR = '../assets'\n",
    "\n",
    "grid_points = np.load(os.path.join(ASSETS_DIR, \"boob_grid_12_21.npy\"))\n",
    "\n",
    "# Remove points that are outside of the boob mesh.\n",
    "# Because those points have been skipped during the points mapping, their value is (0, 0, 0)\n",
    "origin = np.array([0, 0, 0])\n",
    "points_to_skip = np.where((grid_points == origin).all(axis=1))[0]\n",
    "points_of_interest = np.delete(grid_points, points_to_skip, axis=0)"
   ]
  },
  {
   "cell_type": "code",
   "execution_count": 128,
   "metadata": {},
   "outputs": [],
   "source": [
    "df_pre = pd.read_csv(\"../data/results/3-data_20241115_134123_pre.csv\", header=None).drop(columns=points_to_skip)\n",
    "df_post = pd.read_csv(\"../data/results/3-data_20241115_134545_post.csv\", header=None).drop(columns=points_to_skip)"
   ]
  },
  {
   "cell_type": "code",
   "execution_count": 129,
   "metadata": {},
   "outputs": [],
   "source": [
    "# Create the point cloud and initialize the scalars\n",
    "point_cloud = pv.PolyData(points_of_interest)\n",
    "\n",
    "p1 = pv.Plotter(border=False)\n",
    "p1.add_title(\"Breast points\", font_size=12)\n",
    "p1.add_mesh(point_cloud, copy_mesh=True ,scalars=np.zeros(points_of_interest.shape[0]), cmap='cool', point_size=15)\n",
    "\n",
    "p1.remove_scalar_bar()\n",
    "\n",
    "p1.camera_position = 'xy'\n",
    "p1.camera.elevation += 100\n",
    "\n",
    "# p1.show()\n"
   ]
  },
  {
   "cell_type": "code",
   "execution_count": 130,
   "metadata": {},
   "outputs": [],
   "source": [
    "K = 5\n",
    "\n",
    "# Load the boob 3D model from file\n",
    "boob_mesh = pv.read( '../assets/boob.obj')\n",
    "boob_mesh.translate(np.array([0, -0.035, 0]), inplace=True)\n",
    "\n",
    "# Create a kd-tree for quick nearest-neighbor lookup.\n",
    "kdtree = KDTree(points_of_interest)\n",
    "\n",
    "# Find the K nearest point_cloud points for each points in the boob mesh and calculate their respective distances\n",
    "boob_mesh['nearest_points'] = kdtree.query(boob_mesh.points, k=K)[1]\n",
    "boob_mesh['nearest_points_dist'] = kdtree.query(boob_mesh.points, k=K)[0]\n",
    "\n",
    "# Step 1: Calculate the reciprocal of the distances\n",
    "reciprocal_distances = 1 / boob_mesh['nearest_points_dist']\n",
    "\n",
    "# Step 2: Square the reciprocal distances\n",
    "squared_reciprocal_distances = reciprocal_distances ** 1.2\n",
    "\n",
    "\n",
    "# Step 3: Normalize the weights\n",
    "normalized_weights = squared_reciprocal_distances / \\\n",
    "    np.sum(squared_reciprocal_distances, axis=1, keepdims=True)\n",
    "\n",
    "boob_mesh['pressure'] = np.zeros(boob_mesh.points.shape[0])\n",
    "boob_mesh['max_pressure'] = boob_mesh['pressure']\n",
    "\n",
    "\n",
    "p4 = pv.Plotter(border=False)\n",
    "p4.add_title(\"Breast model\", font_size=12)\n",
    "p4.add_mesh(boob_mesh, copy_mesh=True , scalars=np.zeros(boob_mesh.points.shape[0]), cmap='cool', point_size=15)\n",
    "\n",
    "p4.remove_scalar_bar()\n",
    "\n",
    "p4.camera_position = 'xy'\n",
    "p4.camera.elevation += 100\n",
    "\n",
    "# p4.show()\n",
    "\n"
   ]
  },
  {
   "cell_type": "code",
   "execution_count": 131,
   "metadata": {},
   "outputs": [],
   "source": [
    "def interpolate_grid_on_model(grid_scalar):\n",
    "    return np.sum(grid_scalar[boob_mesh['nearest_points']] * normalized_weights, axis=1)"
   ]
  },
  {
   "cell_type": "code",
   "execution_count": 132,
   "metadata": {},
   "outputs": [
    {
     "data": {
      "application/vnd.jupyter.widget-view+json": {
       "model_id": "290e2a98732641348a1fe132264509ce",
       "version_major": 2,
       "version_minor": 0
      },
      "text/plain": [
       "Widget(value='<iframe src=\"http://localhost:61568/index.html?ui=P_0x31eb174d0_105&reconnect=auto\" class=\"pyvis…"
      ]
     },
     "metadata": {},
     "output_type": "display_data"
    }
   ],
   "source": [
    "THRESHOLD = 100\n",
    "\n",
    "calibration_data_pre = df_pre.iloc[:20].median()\n",
    "calibration_data_post = df_post.iloc[:20].median()\n",
    "\n",
    "points_touched_pre = (df_pre > calibration_data_pre + THRESHOLD).any().values\n",
    "points_touched_post = (df_post > calibration_data_post + THRESHOLD).any().values\n",
    "\n",
    "points_touched_interpolated_pre = np.sum(points_touched_pre[boob_mesh['nearest_points']] * normalized_weights, axis=1) > 0\n",
    "points_touched_interpolated_post = np.sum(points_touched_post[boob_mesh['nearest_points']] * normalized_weights, axis=1) > 0\n",
    "\n",
    "shape = (3, 2) # (rows, columns)\n",
    "row_weights = [ 1, 1, 0.2]\n",
    "col_weights = [1, 1]\n",
    "groups = [\n",
    "    (1, 0),  \n",
    "    (2, np.s_[:]), \n",
    "]\n",
    "\n",
    "\n",
    "p2 = pv.Plotter( border=False, shape=shape, row_weights=row_weights, col_weights=col_weights, groups=groups, window_size=[1000, 1000])\n",
    "\n",
    "p2.subplot(2, 0)\n",
    "mesh = pv.PolyData(np.zeros((2, 3)))\n",
    "mesh['data'] = (False, True)\n",
    "\n",
    "actor = p2.add_mesh(mesh, copy_mesh=True, scalars='data', cmap='cool', point_size=5,  show_scalar_bar=False)\n",
    "actor.visibility = False\n",
    "\n",
    "\n",
    "scalar_bar = p2.add_scalar_bar(height=0.8, width=0.8, position_x=0.1)\n",
    "\n",
    "\n",
    "p2.subplot(0, 0)\n",
    "p2.add_title(\"Pre Training\", font_size=8)\n",
    "p2.add_mesh(point_cloud, copy_mesh=True, scalars=points_touched_pre, cmap='cool', point_size=5,  show_scalar_bar=False)\n",
    "\n",
    "p2.subplot(0, 1)\n",
    "p2.add_title(\"Post Training\", font_size=8)\n",
    "p2.add_mesh(point_cloud, copy_mesh=True, scalars=points_touched_post, cmap='cool', point_size=5,  show_scalar_bar=False)\n",
    "\n",
    "p2.subplot(1, 0)\n",
    "p2.add_mesh(boob_mesh, copy_mesh=True, scalars=points_touched_interpolated_pre, cmap='cool',  show_scalar_bar=False)\n",
    "\n",
    "\n",
    "p2.subplot(1, 1)\n",
    "p2.add_mesh(boob_mesh, copy_mesh=True, scalars=points_touched_interpolated_post, cmap='cool',  show_scalar_bar=False)\n",
    "\n",
    "p2.link_views()\n",
    "\n",
    "p2.camera_position = 'xy'\n",
    "p2.camera.elevation += 100\n",
    "\n",
    "p2.show()\n",
    "\n",
    "\n",
    "# p2 = pv.Plotter( border=False, shape=(2, 2))\n",
    "\n",
    "# p2.subplot(0, 0)\n",
    "# p2.add_title(\"Points pressed\", font_size=8)\n",
    "# p2.add_mesh(point_cloud, copy_mesh=True, scalars=points_touched_pre, cmap='cool', point_size=10)\n",
    "\n",
    "# p2.subplot(0, 1)\n",
    "# p2.add_title(\"Points pressed\", font_size=8)\n",
    "# p2.add_mesh(point_cloud, copy_mesh=True, scalars=points_touched_post, cmap='cool', point_size=10)\n",
    "\n",
    "# p2.subplot(1, 0)\n",
    "# p2.add_title(\"Points pressed\", font_size=8)\n",
    "# p2.add_mesh(boob_mesh, copy_mesh=True, scalars=points_touched_interpolated_pre, cmap='cool', point_size=10)\n",
    "\n",
    "# p2.subplot(1, 1)\n",
    "# p2.add_title(\"Points pressed\", font_size=8)\n",
    "# p2.add_mesh(boob_mesh, copy_mesh=True, scalars=points_touched_interpolated_post, cmap='cool', point_size=10)\n",
    "\n",
    "# p2.link_views()\n",
    "\n",
    "# p2.camera_position = 'xy'\n",
    "# p2.camera.elevation += 100\n",
    "\n",
    "\n",
    "\n",
    "# p2.show()"
   ]
  },
  {
   "cell_type": "markdown",
   "metadata": {},
   "source": [
    " \n",
    "## Visualization of Points Touched Before and After Training\n"
   ]
  },
  {
   "cell_type": "code",
   "execution_count": 133,
   "metadata": {},
   "outputs": [
    {
     "data": {
      "application/vnd.jupyter.widget-view+json": {
       "model_id": "b7d46631d1e04cc9bc13641d8a8bd2dc",
       "version_major": 2,
       "version_minor": 0
      },
      "text/plain": [
       "Widget(value='<iframe src=\"http://localhost:61568/index.html?ui=P_0x31eb17500_106&reconnect=auto\" class=\"pyvis…"
      ]
     },
     "metadata": {},
     "output_type": "display_data"
    }
   ],
   "source": [
    "n_touch_pre = (df_pre > calibration_data_pre + THRESHOLD).sum(axis=0)\n",
    "n_touch_post = (df_post > calibration_data_post + THRESHOLD).sum(axis=0)\n",
    "\n",
    "n_touch_interpolated_pre = np.sum(n_touch_pre.values[boob_mesh['nearest_points']] * normalized_weights, axis=1)\n",
    "n_touch_interpolated_post = np.sum(n_touch_post.values[boob_mesh['nearest_points']] * normalized_weights, axis=1)\n",
    "\n",
    "\n",
    "shape = (3, 2) # (rows, columns)\n",
    "row_weights = [ 1, 1, 0.2]\n",
    "col_weights = [1, 1]\n",
    "groups = [\n",
    "    (1, 0),  \n",
    "    (2, np.s_[:]), \n",
    "]\n",
    "\n",
    "\n",
    "p3 = pv.Plotter( border=False, shape=shape, row_weights=row_weights, col_weights=col_weights, groups=groups, window_size=[1000, 1000])\n",
    "\n",
    "p3.subplot(2, 0)\n",
    "mesh = pv.PolyData(np.zeros((2, 3)))\n",
    "mesh['data'] = (0, 1)\n",
    "\n",
    "actor = p3.add_mesh(point_cloud, copy_mesh=True, scalars=n_touch_pre, cmap='cool', point_size=5,  show_scalar_bar=False)\n",
    "actor.visibility = False\n",
    "\n",
    "\n",
    "scalar_bar = p3.add_scalar_bar(height=0.5, width=0.8, position_x=0.1, title=\"Number of Point Activations\")\n",
    "\n",
    "p3.subplot(0, 0)\n",
    "p3.add_title(\"Pre Training\", font_size=8)\n",
    "p3.add_mesh(point_cloud, copy_mesh=True, scalars=n_touch_pre, cmap='cool', point_size=5,  show_scalar_bar=False)\n",
    "\n",
    "p3.subplot(0, 1)\n",
    "p3.add_title(\"Post Training\", font_size=8)\n",
    "p3.add_mesh(point_cloud, copy_mesh=True, scalars=n_touch_post, cmap='cool', point_size=5,  show_scalar_bar=False)\n",
    "\n",
    "p3.subplot(1, 0)\n",
    "p3.add_mesh(boob_mesh, copy_mesh=True, scalars=n_touch_interpolated_pre, cmap='cool',  show_scalar_bar=False)\n",
    "\n",
    "\n",
    "p3.subplot(1, 1)\n",
    "p3.add_mesh(boob_mesh, copy_mesh=True, scalars=n_touch_interpolated_post, cmap='cool',  show_scalar_bar=False)\n",
    "\n",
    "p3.link_views()\n",
    "\n",
    "p3.camera_position = 'xy'\n",
    "p3.camera.elevation += 100\n",
    "\n",
    "p3.show()"
   ]
  },
  {
   "cell_type": "code",
   "execution_count": 134,
   "metadata": {},
   "outputs": [],
   "source": [
    "\n",
    "# relative_pressure = df_poi - calibration_data\n",
    "\n",
    "\n",
    "\n",
    "# p3 = pv.Plotter(border=False, shape=(2, 2))\n",
    "\n",
    "# p3.subplot(0, 0)\n",
    "# p3.add_title(\"Mean Pressure\", font_size=8)\n",
    "# p3.add_mesh(point_cloud, copy_mesh=True, scalars=relative_pressure.mean(), scalar_bar_args={\n",
    "#              'title': 'mean', \"title_font_size\": -1}, cmap='cool', point_size=10)\n",
    "\n",
    "# p3.subplot(1, 0)\n",
    "# p3.add_mesh(boob_mesh, copy_mesh=True, scalars=interpolate_grid_on_model(relative_pressure.mean().values), scalar_bar_args={\n",
    "#              'title': 'mean', \"title_font_size\": -1}, cmap='cool', point_size=10)\n",
    "\n",
    "# p3.subplot(0, 1)\n",
    "# p3.add_title(\"Max Pressure\", font_size=8)\n",
    "# p3.add_mesh(point_cloud, copy_mesh=True, scalars=relative_pressure.max(), scalar_bar_args={\n",
    "#              'title': 'max', \"title_font_size\": -1}, cmap='cool', point_size=10)\n",
    "\n",
    "# p3.subplot(1, 1)\n",
    "# p3.add_mesh(boob_mesh, copy_mesh=True, scalars=interpolate_grid_on_model(relative_pressure.max().values), scalar_bar_args={\n",
    "#              'title': 'max', \"title_font_size\": -1}, cmap='cool', point_size=10)\n",
    "\n",
    "# p3.link_views()\n",
    "\n",
    "\n",
    "# p3.camera_position = 'xy'\n",
    "# p3.camera.elevation += 100\n",
    "\n",
    "# p3.show(jupyter_backend='trame')\n",
    "\n"
   ]
  },
  {
   "cell_type": "code",
   "execution_count": 8,
   "metadata": {},
   "outputs": [],
   "source": []
  }
 ],
 "metadata": {
  "kernelspec": {
   "display_name": ".venv",
   "language": "python",
   "name": "python3"
  },
  "language_info": {
   "codemirror_mode": {
    "name": "ipython",
    "version": 3
   },
   "file_extension": ".py",
   "mimetype": "text/x-python",
   "name": "python",
   "nbconvert_exporter": "python",
   "pygments_lexer": "ipython3",
   "version": "3.12.5"
  }
 },
 "nbformat": 4,
 "nbformat_minor": 2
}
